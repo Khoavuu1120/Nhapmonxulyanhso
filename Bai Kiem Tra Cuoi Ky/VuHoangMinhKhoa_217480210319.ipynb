{
 "cells": [
  {
   "cell_type": "markdown",
   "id": "5dd8b8d4",
   "metadata": {},
   "source": [
    "# Họ và Tên Vu Hoang Minh Khoa\n",
    "# MSSV: 2174802010319"
   ]
  },
  {
   "cell_type": "markdown",
   "id": "6bd5da59",
   "metadata": {},
   "source": [
    "### Câu 1 (2 điểm): Cho một ảnh bất kỳ (tên ảnh do sinh viên tự đặt, ví dụ: `my_image.jpg`) và thực hiện các yêu cầu sau:\n",
    "\n",
    "* Viết chương trình sử dụng median filter để làm mịn ảnh. (0.5 điểm)  \n",
    "* Viết chương trình sử dụng Sobel filter để xác định biên của hình ảnh. (0.5 điểm)  \n",
    "* Đổi màu ảnh bằng cách hoán đổi thứ tự các kênh màu (ví dụ: BGR → GRB hoặc GBR...) và lưu thành tên dạng `[ten_anh]_swapped.jpg`. (0.5 điểm)  \n",
    "* Chuyển ảnh sang không gian màu LAB và tách riêng 3 kênh L, A, B, lưu thành ảnh grayscale tương ứng (`[ten_anh]_L.jpg`, `[ten_anh]_A.jpg`, `[ten_anh]_B.jpg`). (0.5 điểm)\n"
   ]
  },
  {
   "cell_type": "code",
   "execution_count": null,
   "id": "17c2e31d",
   "metadata": {},
   "outputs": [],
   "source": [
    "import cv2\n",
    "import numpy as np\n",
    "import matplotlib.pyplot as plt\n",
    "import os\n",
    "\n",
    "# Tên ảnh gốc\n",
    "img_name = 'my_image.jpg'\n",
    "basename = os.path.splitext(img_name)[0]\n",
    "\n",
    "# Đọc ảnh\n",
    "img = cv2.imread(img_name)\n",
    "\n",
    "if img is None:\n",
    "    print(\"Không thể đọc ảnh xem lại file.\")\n",
    "    exit()\n",
    "\n",
    "# Hàm hiển thị ảnh\n",
    "def show_image(img, title=\"Ảnh\", is_gray=False):\n",
    "    if is_gray:\n",
    "        plt.imshow(img, cmap='gray')\n",
    "    else:\n",
    "        plt.imshow(cv2.cvtColor(img, cv2.COLOR_BGR2RGB))\n",
    "    plt.title(title)\n",
    "    plt.axis('off')\n",
    "    plt.show()\n",
    "\n",
    "# 1. Làm mịn ảnh bằng Median Filter\n",
    "median_filtered = cv2.medianBlur(img, 5)\n",
    "cv2.imwrite(f\"{basename}_median.jpg\", median_filtered)\n",
    "show_image(median_filtered, \"Ảnh sau khi lọc median\")\n",
    "\n",
    "# 2. Phát hiện biên ảnh bằng Sobel filter\n",
    "gray = cv2.cvtColor(img, cv2.COLOR_BGR2GRAY)\n",
    "sobelx = cv2.Sobel(gray, cv2.CV_64F, 1, 0, ksize=3)\n",
    "sobely = cv2.Sobel(gray, cv2.CV_64F, 0, 1, ksize=3)\n",
    "sobel = cv2.magnitude(sobelx, sobely)\n",
    "sobel = np.uint8(np.clip(sobel, 0, 255))\n",
    "cv2.imwrite(f\"{basename}_sobel.jpg\", sobel)\n",
    "show_image(sobel, \"Biên ảnh với Sobel\", is_gray=True)\n",
    "\n",
    "# 3. Hoán đổi kênh màu (BGR → GRB)\n",
    "swapped = img[:, :, [1, 2, 0]]  # GRB\n",
    "cv2.imwrite(f\"{basename}_swapped.jpg\", swapped)\n",
    "show_image(swapped, \"Ảnh sau khi hoán đổi kênh màu GRB\")\n",
    "\n",
    "# 4. Chuyển sang LAB và tách \n",
    "lab = cv2.cvtColor(img, cv2.COLOR_BGR2LAB)\n",
    "L, A, B = cv2.split(lab)\n",
    "\n",
    "cv2.imwrite(f\"{basename}_L.jpg\", L)\n",
    "cv2.imwrite(f\"{basename}_A.jpg\", A)\n",
    "cv2.imwrite(f\"{basename}_B.jpg\", B)\n",
    "\n",
    "# Hiển thị từng kênh LAB\n",
    "show_image(L, \"Kênh L (Lightness)\", is_gray=True)\n",
    "show_image(A, \"Kênh A\", is_gray=True)\n",
    "show_image(B, \"Kênh B\", is_gray=True)\n"
   ]
  },
  {
   "cell_type": "markdown",
   "id": "91c31f19",
   "metadata": {},
   "source": [
    "### Câu 2 (4 điểm) Viết một chương trình Python sử dụng OpenCV để tạo menu tương tác cho phép người dùng chọn các kỹ thuật lọc và xử lý ảnh nâng cao từ một danh sách, áp dụng đồng thời cho nhiều ảnh.\n",
    "\n",
    "### Yêu cầu:\n",
    "\n",
    "1. Menu gồm:  \n",
    "* Gaussian Blur (kernel size ngẫu nhiên lẻ từ 3 đến 11) (0.5 điểm)  \n",
    "* Median Blur (kernel size ngẫu nhiên lẻ từ 3 đến 11) (0.5 điểm)  \n",
    "* Bilateral Filter (tham số ngẫu nhiên) (0.5 điểm)  \n",
    "* Canny Edge Detection (thresholds ngẫu nhiên 50–150) (0.5 điểm)  \n",
    "* Erosion (kernel 2x2 đến 5x5 ngẫu nhiên) (0.5 điểm)  \n",
    "* Dilation (tương tự Erosion) (0.5 điểm)\n",
    "\n",
    "2. Chương trình xử lý đồng thời 3 ảnh bất kỳ do sinh viên tự chọn (có thể chọn bằng đường dẫn file hoặc nhập tên ảnh tùy ý). (0.5 điểm)\n",
    "\n",
    "3. Phím tương ứng để kích hoạt các phương pháp xử lý:  \n",
    "* B: Gaussian Blur  \n",
    "* M: Median Blur  \n",
    "* F: Bilateral Filter  \n",
    "* E: Canny Edge  \n",
    "* R: Erosion  \n",
    "* D: Dilation (0.5 điểm)\n",
    "\n",
    "4. Lưu file kết quả với định dạng: `result_[phương pháp]_[tên ảnh gốc].jpg`  \n",
    "   Ví dụ: `result_blur_dog.jpg`, `result_canny_image2.jpg` (0.5 điểm)\n"
   ]
  },
  {
   "cell_type": "code",
   "execution_count": null,
   "id": "2c5b707b",
   "metadata": {},
   "outputs": [],
   "source": []
  },
  {
   "cell_type": "markdown",
   "id": "f002add2",
   "metadata": {},
   "source": [
    "### Câu 3 (4 điểm) Viết một chương trình Python để xử lý 3 ảnh bất kỳ do sinh viên tự chọn.\n",
    "\n",
    "* Tăng kích thước ảnh đầu tiên thêm 35 pixel ở mỗi cạnh. (0.5 điểm)  \n",
    "* Xoay ảnh thứ hai 135 độ và lật ngang. (0.5 điểm)  \n",
    "* Tăng kích thước ảnh thứ ba lên 5 lần và làm mịn bằng Gaussian blur kernel 9x9. (1.5 điểm)  \n",
    "* Thay đổi độ sáng và độ tương phản ảnh thứ ba bằng công thức:\n",
    "\n",
    "$$\n",
    "I_{out}(x, y) = \\alpha \\cdot I_{in}(x, y) + \\beta\n",
    "$$\n",
    "\n",
    "Trong đó:  \n",
    "\n",
    "$$\n",
    "\\alpha \\in [0.5, 2.0], \\quad \\beta \\in [-50, 50]\n",
    "$$\n",
    "\n",
    "Giá trị đầu ra cần được giới hạn trong khoảng [0, 255] bằng công thức:\n",
    "\n",
    "$$\n",
    "I_{out}(x, y) = \\text{clip}(I_{out}(x, y), 0, 255)\n",
    "$$\n"
   ]
  },
  {
   "cell_type": "code",
   "execution_count": null,
   "id": "a4c1ae83",
   "metadata": {},
   "outputs": [],
   "source": []
  },
  {
   "cell_type": "markdown",
   "id": "f410dddd",
   "metadata": {},
   "source": [
    "# Chúc các bạn làm bài may mắn, hi vọng mọi người qua môn tất cả được 10."
   ]
  }
 ],
 "metadata": {
  "language_info": {
   "name": "python"
  }
 },
 "nbformat": 4,
 "nbformat_minor": 5
}
